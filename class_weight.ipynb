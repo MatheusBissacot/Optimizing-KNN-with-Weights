{
 "cells": [
  {
   "cell_type": "markdown",
   "metadata": {},
   "source": [
    "## <b> KNN Notebook </b>"
   ]
  },
  {
   "cell_type": "markdown",
   "metadata": {},
   "source": [
    "### <b> Goals </b>\n",
    "\n",
    "The goals of our project are focused around implementing ways to improve the way the KNN algorithm classifies binary data when consuming datasets that present heavy class imbalances."
   ]
  },
  {
   "cell_type": "markdown",
   "metadata": {},
   "source": [
    "### <b> KNN base algorithm </b>"
   ]
  },
  {
   "cell_type": "markdown",
   "metadata": {},
   "source": [
    "This is the base algorithm along with its classifier and regressor."
   ]
  },
  {
   "cell_type": "code",
   "execution_count": 1,
   "metadata": {},
   "outputs": [],
   "source": [
    "from collections import Counter\n",
    "import numpy as np\n",
    "from scipy.spatial.distance import euclidean\n",
    "from base import BaseEstimator\n",
    "\n",
    "\n",
    "class KNNBase(BaseEstimator):\n",
    "    def __init__(self, k=5, distance_func=euclidean):\n",
    "        self.k = k\n",
    "        self.distance_func = distance_func\n",
    "\n",
    "    def aggregate(self, neighbors_targets):\n",
    "        raise NotImplementedError()\n",
    "\n",
    "    def _predict(self, X=None):\n",
    "        predictions = [self._predict_x(x) for x in X]\n",
    "        return np.array(predictions)\n",
    "\n",
    "    def _predict_x(self, x):\n",
    "        distances = [self.distance_func(x, example) for example in self.X]\n",
    "        neighbors = sorted(zip(distances, self.y), key=lambda x: x[0])\n",
    "        neighbors_targets = [target for (_, target) in neighbors[:self.k]]\n",
    "        return self.aggregate(neighbors_targets)\n",
    "\n",
    "    def get_params(self, deep=True):\n",
    "        return {'k': self.k, 'distance_func': self.distance_func}\n",
    "\n",
    "    def set_params(self, **params):\n",
    "        if 'k' in params:\n",
    "            self.k = params['k']\n",
    "        if 'distance_func' in params:\n",
    "            self.distance_func = params['distance_func']\n",
    "\n",
    "\n",
    "from collections import Counter\n",
    "import numpy as np\n",
    "from scipy.spatial.distance import euclidean\n",
    "from base import BaseEstimator\n",
    "\n",
    "class KNNClassifier(KNNBase):\n",
    "    def aggregate(self, neighbors_targets):\n",
    "        most_common_label = Counter(neighbors_targets).most_common(1)[0][0]\n",
    "        return most_common_label\n",
    "\n",
    "    def predict_proba(self, X=None):\n",
    "        probabilities = []\n",
    "        n_classes = len(np.unique(self.y))  # Number of unique class labels in training data\n",
    "        for x in X:\n",
    "            distances = [self.distance_func(x, example) for example in self.X]\n",
    "            neighbors = sorted(zip(distances, self.y), key=lambda x: x[0])\n",
    "            neighbors_targets = [target for (_, target) in neighbors[:self.k]]\n",
    "            class_counts = Counter(neighbors_targets)\n",
    "            prob = np.zeros(n_classes)\n",
    "            for class_label, count in class_counts.items():\n",
    "                prob[class_label] = count / self.k\n",
    "            probabilities.append(prob)\n",
    "        return np.array(probabilities)\n"
   ]
  },
  {
   "cell_type": "markdown",
   "metadata": {},
   "source": [
    "### <b> Dataset Exploratory Data Analysis </b>"
   ]
  },
  {
   "cell_type": "markdown",
   "metadata": {},
   "source": [
    "In this section of the notebook our aim is to better understand our dataset.\n",
    "As previously mentioned our main focus is to tackle KNN problems related to Binary Class Imbalances, therefore we'll start by checking if the datasets we'll be using actually do present those problems."
   ]
  },
  {
   "cell_type": "code",
   "execution_count": 2,
   "metadata": {},
   "outputs": [],
   "source": [
    "#Imports\n",
    "import pandas as pd\n",
    "import matplotlib.pyplot as plt\n",
    "from sklearn.datasets import fetch_openml #Fetch Method for OpenML datasets"
   ]
  },
  {
   "cell_type": "markdown",
   "metadata": {},
   "source": [
    "##### <b> Functions to extract data and observe binary class imbalances </b>\n",
    "\n"
   ]
  },
  {
   "cell_type": "code",
   "execution_count": 3,
   "metadata": {},
   "outputs": [],
   "source": [
    "#Function to fetch datasets and transform them into dataframe\n",
    "def dataset_fetcher(dataset_id):\n",
    "    #Fetch OpenML dataset\n",
    "    dataset = fetch_openml(data_id=dataset_id, version='active', as_frame=True)\n",
    "    \n",
    "    dataset_name = dataset.details['name']\n",
    "\n",
    "    #Convert dataset to pandas dataframe\n",
    "    df = dataset.frame\n",
    "\n",
    "    #Change last column name to \"class\" in all dataframes\n",
    "    last_column_name = df.columns[-1] \n",
    "    df = df.rename(columns={last_column_name: 'class'})\n",
    "\n",
    "\n",
    "    return df, dataset_name\n",
    "\n",
    "\n",
    "#Function to show number of entries for each label/class\n",
    "def item_number_per_class(dataframe, ds_name):\n",
    "\n",
    "    #Select class column\n",
    "    label_column = dataframe.iloc[:,-1]\n",
    "    \n",
    "    # Count the occurrences of each value\n",
    "    occurrences = label_column.value_counts()\n",
    "\n",
    "    return occurrences, ds_name\n",
    "\n",
    "#Function to plot the data\n",
    "def plot_number_of_entries_per_class(num_occurrences, dsname):\n",
    "\n",
    "    \n",
    "    plt.figure(figsize=(3, 2))\n",
    "\n",
    "    # Plotting the occurrences as a bar chart\n",
    "    num_occurrences.plot(kind='bar', rot=0)\n",
    "\n",
    "    # Adding labels and title\n",
    "    plt.xlabel('Item')\n",
    "    plt.ylabel('Count')\n",
    "    plt.title(f'Occurrences of Each Item in {dsname}')\n",
    "\n",
    "    # Display the plot\n",
    "    plt.show()\n",
    "\n",
    "#Pipline for EDA\n",
    "def data_generation_pipeline(datasets_id):\n",
    "\n",
    "    '''\n",
    "    Function will return a list of dataframes that will then be used to benchmark the algorithm\n",
    "    '''\n",
    "    dataframes = []\n",
    "    for id in datasets_id:\n",
    "        dataframe, dsname = dataset_fetcher(id)\n",
    "        dataframes.append(dataframe)\n",
    "        occurrences, dsname = item_number_per_class(dataframe, dsname)\n",
    "        plot_number_of_entries_per_class(occurrences, dsname)\n",
    "\n",
    "    return dataframes\n",
    "    \n",
    "    "
   ]
  },
  {
   "cell_type": "code",
   "execution_count": 4,
   "metadata": {},
   "outputs": [
    {
     "data": {
      "image/png": "[encoded data removed]",
      "text/plain": [
       "<Figure size 300x200 with 1 Axes>"
      ]
     },
     "metadata": {},
     "output_type": "display_data"
    },
    {
     "data": {
      "image/png": "[encoded data removed]",
      "text/plain": [
       "<Figure size 300x200 with 1 Axes>"
      ]
     },
     "metadata": {},
     "output_type": "display_data"
    },
    {
     "data": {
      "image/png": "[encoded data removed]",
      "text/plain": [
       "<Figure size 300x200 with 1 Axes>"
      ]
     },
     "metadata": {},
     "output_type": "display_data"
    },
    {
     "data": {
      "image/png": "[encoded data removed]",
      "text/plain": [
       "<Figure size 300x200 with 1 Axes>"
      ]
     },
     "metadata": {},
     "output_type": "display_data"
    },
    {
     "data": {
      "image/png": "[encoded data removed]",
      "text/plain": [
       "<Figure size 300x200 with 1 Axes>"
      ]
     },
     "metadata": {},
     "output_type": "display_data"
    }
   ],
   "source": [
    "dataset_id_list = [31, 1464, 1063, 1067, 1068]\n",
    "dataframes = data_generation_pipeline(dataset_id_list)"
   ]
  },
  {
   "cell_type": "markdown",
   "metadata": {},
   "source": [
    "As displayed above in the graphs, we can clearly see that every single one of the datasets that we are using has severe class imbalances."
   ]
  },
  {
   "cell_type": "markdown",
   "metadata": {},
   "source": [
    "#### <b> Convert non-numeric values to numeric values </b>\n",
    "\n",
    "Since our Classifier only works with numerical values, we need to replace all of the non-numerical entries in our dataframe.\n",
    "We also want to ensure that in each column, the identity of the unique data points is preserved, meaning that within the same column previously non-numerical values that are the same will also have the same numerical representation.\n",
    "\n",
    "On top of that, we'll also implement a way to replace non-available values (NaN) by inserting the mean of the column by NaN in a given entry."
   ]
  },
  {
   "cell_type": "code",
   "execution_count": 5,
   "metadata": {},
   "outputs": [],
   "source": [
    "from sklearn.preprocessing import LabelEncoder\n",
    "def encode_non_numerical_and_nan(df):\n",
    "    df_encoded = df.copy()\n",
    "    \n",
    "    for column in df_encoded.columns:\n",
    "        if pd.api.types.is_object_dtype(df_encoded[column]) or df_encoded[column].apply(lambda x: isinstance(x, str)).any():\n",
    "            le = LabelEncoder()\n",
    "            df_encoded[column] = le.fit_transform(df_encoded[column])\n",
    "\n",
    "    # Replace NaN values with the mean of the column\n",
    "    for column in df_encoded.columns:\n",
    "        if df_encoded[column].isnull().any():\n",
    "            mean_value = df_encoded[column].mean()\n",
    "            df_encoded[column].fillna(mean_value, inplace=True)\n",
    "    \n",
    "    return df_encoded"
   ]
  },
  {
   "cell_type": "code",
   "execution_count": 6,
   "metadata": {},
   "outputs": [],
   "source": [
    "dataframerinos = []\n",
    "\n",
    "for id in dataset_id_list:\n",
    "    dfx = dataset_fetcher(id)[0]\n",
    "    dfx_encoded = encode_non_numerical_and_nan(dfx)\n",
    "    dfx_encoded.tail()\n",
    "    dataframerinos.append(dfx_encoded)\n"
   ]
  },
  {
   "cell_type": "markdown",
   "metadata": {},
   "source": [
    "### <b> Performance of the base KNN Algorithm </b>\n",
    "\n",
    "Now, we'll benchmark the base implementation of the KNN algorithm, using some well defined metrics, to see how it performs when we feed it the previously chosen datasets."
   ]
  },
  {
   "cell_type": "code",
   "execution_count": 7,
   "metadata": {},
   "outputs": [],
   "source": [
    "from collections import Counter\n",
    "import numpy as np\n",
    "from sklearn.base import BaseEstimator\n",
    "from sklearn.metrics import accuracy_score, precision_score, recall_score, f1_score, roc_auc_score\n",
    "from sklearn.model_selection import KFold\n",
    "from sklearn.utils.class_weight import compute_class_weight\n",
    "\n",
    "class KNNBaseOp(BaseEstimator):\n",
    "    def __init__(self, k=5):\n",
    "        self.k = k\n",
    "\n",
    "    def aggregate(self, neighbors_targets):\n",
    "        raise NotImplementedError()\n",
    "\n",
    "    def _predict(self, X=None):\n",
    "        predictions = [self._predict_x(x) for x in X]\n",
    "        return np.array(predictions)\n",
    "\n",
    "    def _predict_x(self, x):\n",
    "        distances = np.linalg.norm(self.X - x, axis=1)\n",
    "        indices = np.argsort(distances)[:self.k]\n",
    "        neighbors_targets = self.y[indices]\n",
    "        return self.aggregate(neighbors_targets)\n",
    "\n",
    "    def fit(self, X, y):\n",
    "        self.X = X\n",
    "        self.y = y\n",
    "        return self\n",
    "\n",
    "    def predict(self, X):\n",
    "        return self._predict(X)\n",
    "\n",
    "    def get_params(self, deep=True):\n",
    "        return {'k': self.k}\n",
    "\n",
    "    def set_params(self, **params):\n",
    "        if 'k' in params:\n",
    "            self.k = params['k']\n",
    "\n",
    "class KNNClassifierOptimized(KNNBaseOp):\n",
    "    def __init__(self, k=5, class_weights=None):\n",
    "        super().__init__(k=k)\n",
    "        self.class_weights = class_weights\n",
    "\n",
    "    def aggregate(self, neighbors_targets):\n",
    "        class_weights = self._calculate_class_weights(neighbors_targets)\n",
    "        weighted_votes = Counter(neighbors_targets)\n",
    "        for target, weight in zip(neighbors_targets, class_weights):\n",
    "            weighted_votes[target] += weight\n",
    "        return weighted_votes.most_common(1)[0][0]\n",
    "\n",
    "    def _calculate_class_weights(self, neighbors_targets):\n",
    "        if self.class_weights is None:\n",
    "            return np.ones(len(neighbors_targets))  # Default equal weights\n",
    "        else:\n",
    "            return np.array([self.class_weights.get(target, 1) for target in neighbors_targets])\n",
    "\n",
    "    def predict_proba(self, X=None):\n",
    "        probabilities = []\n",
    "        for x in X:\n",
    "            distances = np.linalg.norm(self.X - x, axis=1)\n",
    "            indices = np.argsort(distances)[:self.k]\n",
    "            neighbors_targets = self.y[indices]\n",
    "            class_weights = self._calculate_class_weights(neighbors_targets)\n",
    "            prob = np.zeros(len(np.unique(self.y)))\n",
    "            for i, class_label in enumerate(np.unique(self.y)):\n",
    "                class_indices = np.where(neighbors_targets == class_label)[0]\n",
    "                prob[i] = np.sum(class_weights[class_indices]) / np.sum(class_weights)\n",
    "            probabilities.append(prob)\n",
    "        return np.array(probabilities)"
   ]
  },
  {
   "cell_type": "code",
   "execution_count": 8,
   "metadata": {},
   "outputs": [],
   "source": [
    "def knnBasePerformanceMetrics(dataframe_set, n_splits=5, random_state=42):\n",
    "    # Separate features from class labels\n",
    "    X = dataframe_set.drop(columns=['class']).values  # Features as numpy array\n",
    "    y = dataframe_set['class'].values  # Labels as numpy array\n",
    "\n",
    "    # Instantiate a classifier\n",
    "    knn = KNNClassifier(k=9)\n",
    "\n",
    "    # Define the k-fold cross-validator\n",
    "    kf = KFold(n_splits=n_splits, shuffle=True, random_state=random_state)\n",
    "\n",
    "    # Initialize lists to store metric scores\n",
    "    accuracy_scores = []\n",
    "    precision_scores = []\n",
    "    recall_scores = []\n",
    "    f1_scores = []\n",
    "    roc_auc_scores = []  # New list for storing AUC-ROC scores\n",
    "\n",
    "    # Perform k-fold cross-validation\n",
    "    for train_index, test_index in kf.split(X):\n",
    "        X_train, X_test = X[train_index], X[test_index]\n",
    "        y_train, y_test = y[train_index], y[test_index]\n",
    "\n",
    "        # Fit the model\n",
    "        knn.fit(X_train, y_train)\n",
    "\n",
    "        # Make predictions\n",
    "        y_pred = knn.predict(X_test)\n",
    "\n",
    "        # Calculate evaluation metrics\n",
    "        accuracy_scores.append(accuracy_score(y_test, y_pred))\n",
    "        precision_scores.append(precision_score(y_test, y_pred))\n",
    "        recall_scores.append(recall_score(y_test, y_pred))\n",
    "        f1_scores.append(f1_score(y_test, y_pred))\n",
    "        \n",
    "        # Calculate AUC-ROC\n",
    "        y_prob = knn.predict_proba(X_test)[:, 1]\n",
    "        roc_auc_scores.append(roc_auc_score(y_test, y_prob))\n",
    "\n",
    "    # Calculate mean scores\n",
    "    mean_accuracy = np.mean(accuracy_scores)\n",
    "    mean_precision = np.mean(precision_scores)\n",
    "    mean_recall = np.mean(recall_scores)\n",
    "    mean_f1 = np.mean(f1_scores)\n",
    "    mean_roc_auc = np.mean(roc_auc_scores)\n",
    "\n",
    "    return mean_accuracy, mean_precision, mean_recall, mean_f1, mean_roc_auc\n"
   ]
  },
  {
   "cell_type": "code",
   "execution_count": 9,
   "metadata": {},
   "outputs": [
    {
     "name": "stdout",
     "output_type": "stream",
     "text": [
      "Mean Accuracy: 0.675, Mean Precision: 0.7145139499055161, Mean Recall: 0.8931415479270444, Mean F1 Score: 0.7934336756039526, Mean ROC-AUC: 0.5827875274880039\n",
      "Mean Accuracy: 0.7701476510067115, Mean Precision: 0.544927536231884, Mean Recall: 0.279137811759763, Mean F1 Score: 0.3659003496503496, Mean ROC-AUC: 0.6735606381898774\n",
      "Mean Accuracy: 0.8218864468864469, Mean Precision: 0.6097285067873303, Mean Recall: 0.3967380952380953, Mean F1 Score: 0.47218566723210686, Mean ROC-AUC: 0.8088919075187577\n",
      "Mean Accuracy: 0.8330954283977439, Mean Precision: 0.422925479020131, Mean Recall: 0.19545738414590877, Mean F1 Score: 0.262397870920695, Mean ROC-AUC: 0.7337498107361317\n",
      "Mean Accuracy: 0.9314703844115609, Mean Precision: 0.5666666666666667, Mean Recall: 0.10033834586466166, Mean F1 Score: 0.16942313157146918, Mean ROC-AUC: 0.6181179824578191\n"
     ]
    }
   ],
   "source": [
    "# Example usage:\n",
    "for df in dataframerinos:\n",
    "    mean_accuracy, mean_precision, mean_recall, mean_f1, mean_roc_auc= knnBasePerformanceMetrics(df, n_splits=5)\n",
    "    print(f\"Mean Accuracy: {mean_accuracy}, Mean Precision: {mean_precision}, Mean Recall: {mean_recall}, Mean F1 Score: {mean_f1}, Mean ROC-AUC: {mean_roc_auc}\")"
   ]
  },
  {
   "cell_type": "markdown",
   "metadata": {},
   "source": [
    "### <b> KNN modified algorithm </b>"
   ]
  },
  {
   "cell_type": "markdown",
   "metadata": {},
   "source": [
    "First, we need to implement techniques such as oversampling of minority class instances or undersampling of majority class instances."
   ]
  },
  {
   "cell_type": "code",
   "execution_count": 10,
   "metadata": {},
   "outputs": [],
   "source": [
    "from collections import Counter\n",
    "import numpy as np\n",
    "from sklearn.base import BaseEstimator\n",
    "from sklearn.metrics import accuracy_score, precision_score, recall_score, f1_score, roc_auc_score\n",
    "from sklearn.model_selection import KFold\n",
    "from sklearn.utils.class_weight import compute_class_weight\n",
    "\n",
    "class KNNBaseOp(BaseEstimator):\n",
    "    def __init__(self, k=5):\n",
    "        self.k = k\n",
    "\n",
    "    def aggregate(self, neighbors_targets):\n",
    "        raise NotImplementedError()\n",
    "\n",
    "    def _predict(self, X=None):\n",
    "        predictions = [self._predict_x(x) for x in X]\n",
    "        return np.array(predictions)\n",
    "\n",
    "    def _predict_x(self, x):\n",
    "        distances = np.linalg.norm(self.X - x, axis=1)\n",
    "        indices = np.argsort(distances)[:self.k]\n",
    "        neighbors_targets = self.y[indices]\n",
    "        return self.aggregate(neighbors_targets)\n",
    "\n",
    "    def fit(self, X, y):\n",
    "        self.X = X\n",
    "        self.y = y\n",
    "        return self\n",
    "\n",
    "    def predict(self, X):\n",
    "        return self._predict(X)\n",
    "\n",
    "    def get_params(self, deep=True):\n",
    "        return {'k': self.k}\n",
    "\n",
    "    def set_params(self, **params):\n",
    "        if 'k' in params:\n",
    "            self.k = params['k']\n",
    "\n",
    "class KNNClassifierOptimized(KNNBaseOp):\n",
    "    def __init__(self, k=5, class_weights=None):\n",
    "        super().__init__(k=k)\n",
    "        self.class_weights = class_weights\n",
    "\n",
    "    def aggregate(self, neighbors_targets):\n",
    "        class_weights = self._calculate_class_weights(neighbors_targets)\n",
    "        weighted_votes = Counter(neighbors_targets)\n",
    "        for target, weight in zip(neighbors_targets, class_weights):\n",
    "            weighted_votes[target] += weight\n",
    "        return weighted_votes.most_common(1)[0][0]\n",
    "\n",
    "    def _calculate_class_weights(self, neighbors_targets):\n",
    "        if self.class_weights is None:\n",
    "            return np.ones(len(neighbors_targets))  # Default equal weights\n",
    "        else:\n",
    "            return np.array([self.class_weights.get(target, 1) for target in neighbors_targets])\n",
    "\n",
    "    def predict_proba(self, X=None):\n",
    "        probabilities = []\n",
    "        for x in X:\n",
    "            distances = np.linalg.norm(self.X - x, axis=1)\n",
    "            indices = np.argsort(distances)[:self.k]\n",
    "            neighbors_targets = self.y[indices]\n",
    "            class_weights = self._calculate_class_weights(neighbors_targets)\n",
    "            prob = np.zeros(len(np.unique(self.y)))\n",
    "            for i, class_label in enumerate(np.unique(self.y)):\n",
    "                class_indices = np.where(neighbors_targets == class_label)[0]\n",
    "                prob[i] = np.sum(class_weights[class_indices]) / np.sum(class_weights)\n",
    "            probabilities.append(prob)\n",
    "        return np.array(probabilities)\n"
   ]
  },
  {
   "cell_type": "markdown",
   "metadata": {},
   "source": [
    "With all the new features implemented, we can now make the test"
   ]
  },
  {
   "cell_type": "code",
   "execution_count": 11,
   "metadata": {},
   "outputs": [
    {
     "name": "stdout",
     "output_type": "stream",
     "text": [
      "Mean Accuracy: 0.632, Mean Precision: 0.736581947367334, Mean Recall: 0.7403827801344888, Mean F1 Score: 0.7375447215563082, Mean ROC-AUC: 0.5828435438495806\n",
      "Mean Accuracy: 0.7299597315436243, Mean Precision: 0.4376002944423997, Mean Recall: 0.4193534025851099, Mean F1 Score: 0.4195916122781795, Mean ROC-AUC: 0.6802210991590665\n",
      "Mean Accuracy: 0.7798168498168498, Mean Precision: 0.4778925459072518, Mean Recall: 0.6670238095238095, Mean F1 Score: 0.5509298245614035, Mean ROC-AUC: 0.7978295470689188\n",
      "Mean Accuracy: 0.7837815627427362, Mean Precision: 0.35606213565961614, Mean Recall: 0.5148839684905259, Mean F1 Score: 0.41914497992144606, Mean ROC-AUC: 0.7486478945872026\n",
      "Mean Accuracy: 0.8386001386001386, Mean Precision: 0.16284943127048387, Mean Recall: 0.32714623096202045, Mean F1 Score: 0.21624565520030187, Mean ROC-AUC: 0.6201619408169934\n"
     ]
    }
   ],
   "source": [
    "def knnPerformanceMetrics(dataframe_set, n_splits=5, random_state=42):\n",
    "    X = dataframe_set.drop(columns=['class']).values\n",
    "    y = dataframe_set['class'].values\n",
    "\n",
    "    class_weights = compute_class_weight(class_weight='balanced', classes=np.unique(y), y=y)\n",
    "    class_weights_dict = {cls: weight for cls, weight in zip(np.unique(y), class_weights)}\n",
    "\n",
    "    knn = KNNClassifierOptimized(k=9, class_weights=class_weights_dict)\n",
    "\n",
    "    kf = KFold(n_splits=n_splits, shuffle=True, random_state=random_state)\n",
    "\n",
    "    accuracy_scores = []\n",
    "    precision_scores = []\n",
    "    recall_scores = []\n",
    "    f1_scores = []\n",
    "    roc_auc_scores = []\n",
    "\n",
    "    for train_index, test_index in kf.split(X):\n",
    "        X_train, X_test = X[train_index], X[test_index]\n",
    "        y_train, y_test = y[train_index], y[test_index]\n",
    "\n",
    "        knn.fit(X_train, y_train)\n",
    "        y_pred = knn.predict(X_test)\n",
    "\n",
    "        accuracy_scores.append(accuracy_score(y_test, y_pred))\n",
    "        precision_scores.append(precision_score(y_test, y_pred))\n",
    "        recall_scores.append(recall_score(y_test, y_pred))\n",
    "        f1_scores.append(f1_score(y_test, y_pred))\n",
    "        \n",
    "        y_prob = knn.predict_proba(X_test)[:, 1]\n",
    "        roc_auc_scores.append(roc_auc_score(y_test, y_prob))\n",
    "\n",
    "    mean_accuracy = np.mean(accuracy_scores)\n",
    "    mean_precision = np.mean(precision_scores)\n",
    "    mean_recall = np.mean(recall_scores)\n",
    "    mean_f1 = np.mean(f1_scores)\n",
    "    mean_roc_auc = np.mean(roc_auc_scores)\n",
    "\n",
    "    return mean_accuracy, mean_precision, mean_recall, mean_f1, mean_roc_auc\n",
    "\n",
    "# Evaluate on your datasets\n",
    "for df in dataframerinos:\n",
    "    mean_accuracy, mean_precision, mean_recall, mean_f1,  mean_roc_auc = knnPerformanceMetrics(df, n_splits=5)\n",
    "    print(f\"Mean Accuracy: {mean_accuracy}, Mean Precision: {mean_precision}, Mean Recall: {mean_recall}, Mean F1 Score: {mean_f1}, Mean ROC-AUC: { mean_roc_auc}\")"
   ]
  },
  {
   "cell_type": "code",
   "execution_count": null,
   "metadata": {},
   "outputs": [],
   "source": []
  }
 ],
 "metadata": {
  "kernelspec": {
   "display_name": "Python 3",
   "language": "python",
   "name": "python3"
  },
  "language_info": {
   "codemirror_mode": {
    "name": "ipython",
    "version": 3
   },
   "file_extension": ".py",
   "mimetype": "text/x-python",
   "name": "python",
   "nbconvert_exporter": "python",
   "pygments_lexer": "ipython3",
   "version": "3.9.5"
  }
 },
 "nbformat": 4,
 "nbformat_minor": 2
}
