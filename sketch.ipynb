{
 "cells": [
  {
   "cell_type": "markdown",
   "metadata": {},
   "source": [
    "# NOTEBOOK PARA \"RASCUNHOS\"\n",
    "\n",
    "Criei este Notebook para podermos colocar código \"lixo\" e/ou testar trechos de código inúteis, que não tem nenhuma correlação direta com o trabalho\n",
    "\n",
    "**NÃO ENVIAR ISSO NO PROJETO FINAL**"
   ]
  },
  {
   "cell_type": "code",
   "execution_count": 2,
   "metadata": {},
   "outputs": [],
   "source": [
    "import openml\n",
    "from sklearn.neighbors import KNeighborsClassifier\n",
    "from sklearn.pipeline import make_pipeline\n",
    "from sklearn.model_selection import cross_val_score\n",
    "from sklearn.preprocessing import StandardScaler\n",
    "from sklearn.impute import SimpleImputer"
   ]
  },
  {
   "cell_type": "code",
   "execution_count": null,
   "metadata": {},
   "outputs": [],
   "source": [
    "import pandas as pd\n",
    "import numpy as np\n",
    "import scipy.stats as ss\n",
    "import scikit_posthocs as sp # Provavelmente vais ter de correr !pip install scikit-posthocs\n",
    "import matplotlib.pyplot as plt"
   ]
  },
  {
   "cell_type": "code",
   "execution_count": 3,
   "metadata": {},
   "outputs": [],
   "source": [
    "# Codigo que pode ser util futuramente\n",
    "ss.friedmanchisquare(results.loc[results[\"model\"]==\"DT\",:][[\"score\"]], results.loc[results[\"model\"]==\"LR\",:][[\"score\"]], results.loc[results[\"model\"]==\"KNN\",:][[\"score\"]])\n",
    "\n",
    "test_results = sp.posthoc_conover_friedman(\n",
    "    results,\n",
    "    melted=True,\n",
    "    block_col='dataset',\n",
    "    group_col='model',\n",
    "    y_col='score',\n",
    ")\n",
    "sp.sign_plot(test_results)\n",
    "\n",
    "plt.figure(figsize=(10, 2), dpi=100)\n",
    "plt.title('Critical difference diagram of average score ranks')\n",
    "sp.critical_difference_diagram(avg_rank, test_results)"
   ]
  },
  {
   "cell_type": "markdown",
   "metadata": {},
   "source": [
    "### Explicação ChatGPT sobre a linha\n",
    "`KNN = make_pipeline(SimpleImputer(strategy='constant'),StandardScaler(),KNeighborsClassifier())`:\n",
    "\n",
    "Essa linha de código cria um pipeline de pré-processamento de dados seguido por um classificador k-vizinhos mais próximos (KNN). Vamos dividi-la em partes:\n",
    "\n",
    "- SimpleImputer(strategy='constant'): Esta parte cria um transformador SimpleImputer que é usado para substituir valores ausentes (NaN) por um valor constante. O parâmetro strategy='constant' indica que o valor a ser usado para preencher os valores ausentes será especificado explicitamente.\n",
    "\n",
    "- StandardScaler(): Este é outro transformador que padroniza as características removendo a média e dimensionando para a variância unitária. Isso garante que as características tenham a mesma escala, o que pode ser importante para muitos algoritmos de aprendizado de máquina, incluindo o KNN.\n",
    "\n",
    "- KNeighborsClassifier(): Este é o classificador KNN. Ele classifica as instâncias com base na maioria dos votos dos seus k vizinhos mais próximos. O valor de k é um parâmetro que você pode especificar ao criar o classificador ou durante o ajuste do modelo.\n",
    "\n",
    "- make_pipeline(): Esta função cria um pipeline combinando os transformadores e o classificador na ordem especificada. O pipeline resultante pode ser usado como um estimador único e todas as operações no pipeline serão aplicadas em sequência aos dados. Isso é útil para encadear várias etapas de pré-processamento de dados e modelagem em um único objeto, facilitando o treinamento e a aplicação do modelo.\n",
    "\n",
    "Portanto, a linha de código que você forneceu cria um pipeline que primeiro preenche os valores ausentes, em seguida, padroniza as características e, finalmente, aplica o classificador KNN para fazer previsões. Este pipeline pode ser ajustado aos dados de treinamento e usado para fazer previsões em novos conjuntos de dados."
   ]
  }
 ],
 "metadata": {
  "kernelspec": {
   "display_name": "Python 3",
   "language": "python",
   "name": "python3"
  },
  "language_info": {
   "codemirror_mode": {
    "name": "ipython",
    "version": 3
   },
   "file_extension": ".py",
   "mimetype": "text/x-python",
   "name": "python",
   "nbconvert_exporter": "python",
   "pygments_lexer": "ipython3",
   "version": "3.9.5"
  }
 },
 "nbformat": 4,
 "nbformat_minor": 2
}
